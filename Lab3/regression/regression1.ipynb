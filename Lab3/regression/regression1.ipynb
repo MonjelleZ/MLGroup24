{
 "cells": [
  {
   "cell_type": "code",
   "execution_count": 42,
   "id": "5f65280a",
   "metadata": {},
   "outputs": [],
   "source": [
    "import numpy as np\n",
    "import tensorflow as tf\n",
    "import math\n",
    "import pandas as pd\n",
    "import logging\n",
    "logging.basicConfig(level=logging.DEBUG) \n",
    "import matplotlib.pyplot as plt\n",
    "import warnings\n",
    "from sklearn.model_selection import KFold\n",
    "warnings.filterwarnings(\"ignore\")"
   ]
  },
  {
   "cell_type": "code",
   "execution_count": 43,
   "id": "2c77fa02",
   "metadata": {},
   "outputs": [],
   "source": [
    "path='/Users/peijialong/Desktop/ANN/auto-mpg.txt'\n",
    "columnNames = [\"MPG\",\"Cylinders\",\"Displacement\",\"Horsepower\",\"Weight\",\"Accleration\",\"Model Year\",\"Origin\"]\n",
    "data =pd.read_csv(path, names=columnNames, na_values=\"?\",comment=\"\\t\",sep=\" \",skipinitialspace=True)"
   ]
  },
  {
   "cell_type": "code",
   "execution_count": 44,
   "id": "643d93a5",
   "metadata": {},
   "outputs": [],
   "source": [
    "data = data.dropna()"
   ]
  },
  {
   "cell_type": "code",
   "execution_count": 45,
   "id": "21f3c7f4",
   "metadata": {},
   "outputs": [],
   "source": [
    "train_data = data.sample(frac=0.8, random_state=0)\n",
    "test_data = data.drop(train_data.index)"
   ]
  },
  {
   "cell_type": "code",
   "execution_count": 46,
   "id": "eab5309a",
   "metadata": {},
   "outputs": [],
   "source": [
    "valid_data= train_data.sample(frac=0.1, random_state=0)\n",
    "train_data= train_data.drop(valid_data.index)"
   ]
  },
  {
   "cell_type": "code",
   "execution_count": 47,
   "id": "d1238fe1",
   "metadata": {},
   "outputs": [],
   "source": [
    "train_labels = train_data.pop('MPG')\n",
    "valid_labels = valid_data.pop('MPG')\n",
    "test_labels = test_data.pop('MPG')"
   ]
  },
  {
   "cell_type": "code",
   "execution_count": 48,
   "id": "974c3499",
   "metadata": {},
   "outputs": [],
   "source": [
    "trainStats = train_data.describe()\n",
    "trainStats = trainStats.transpose()"
   ]
  },
  {
   "cell_type": "code",
   "execution_count": 49,
   "id": "0861ad2a",
   "metadata": {},
   "outputs": [],
   "source": [
    "def Norm(x):\n",
    "    return (x-trainStats[\"mean\"])/trainStats[\"std\"]\n",
    " \n",
    "TrainData = Norm(train_data)\n",
    "ValidData =  Norm(valid_data)\n",
    "TestData = Norm(test_data)"
   ]
  },
  {
   "cell_type": "code",
   "execution_count": 50,
   "id": "733b6127",
   "metadata": {},
   "outputs": [
    {
     "data": {
      "text/plain": [
       "(283, 7)"
      ]
     },
     "execution_count": 50,
     "metadata": {},
     "output_type": "execute_result"
    }
   ],
   "source": [
    "TrainData.shape"
   ]
  },
  {
   "cell_type": "code",
   "execution_count": 51,
   "id": "4b8739ec",
   "metadata": {},
   "outputs": [],
   "source": [
    "train_labels=pd.DataFrame(train_labels)\n",
    "valid_labels = pd.DataFrame(valid_labels)\n",
    "test_labels =pd.DataFrame(test_labels)"
   ]
  },
  {
   "cell_type": "code",
   "execution_count": 52,
   "id": "bdd71a93",
   "metadata": {},
   "outputs": [],
   "source": [
    "import tensorflow.compat.v1 as tf\n",
    "\n",
    "tf.disable_v2_behavior()"
   ]
  },
  {
   "cell_type": "code",
   "execution_count": 53,
   "id": "c0943889",
   "metadata": {},
   "outputs": [],
   "source": [
    "#Network parameters\n",
    "n_hidden1 =11\n",
    "n_hidden2 =15\n",
    "n_hidden3 = 10\n",
    "n_input = 7\n",
    "n_output = 1\n",
    "#Learning parameters\n",
    "learning_constant = 0.02\n",
    "number_epochs = 500"
   ]
  },
  {
   "cell_type": "code",
   "execution_count": 54,
   "id": "40371340",
   "metadata": {},
   "outputs": [],
   "source": [
    "#Defining the input and the output\n",
    "X = tf.placeholder(\"float\", [None, n_input])\n",
    "Y = tf.placeholder(\"float\", [None, n_output])\n",
    "#DEFINING WEIGHTS AND BIASES\n",
    "#Biases first hidden layer\n",
    "b1 = tf.Variable(tf.random_normal([n_hidden1]))\n",
    "#Biases second hidden layer\n",
    "b2 = tf.Variable(tf.random_normal([n_hidden2]))\n",
    "#Biases third hidden layer\n",
    "b3 = tf.Variable(tf.random_normal([n_hidden3]))\n",
    "#Biases output layer\n",
    "b4 = tf.Variable(tf.random_normal([n_output]))\n",
    "#Weights connecting input layer with first hidden layer\n",
    "w1 = tf.Variable(tf.random_normal([n_input, n_hidden1]))\n",
    "#Weights connecting first hidden layer with second hidden layer\n",
    "w2 = tf.Variable(tf.random_normal([n_hidden1, n_hidden2]))\n",
    "#Weights connecting second hidden layer with output layer\n",
    "w3 = tf.Variable(tf.random_normal([n_hidden2, n_hidden3]))\n",
    "#Weights connecting second hidden layer with output layer\n",
    "w4 = tf.Variable(tf.random_normal([n_hidden3, n_output]))"
   ]
  },
  {
   "cell_type": "code",
   "execution_count": 55,
   "id": "cbff3e31",
   "metadata": {},
   "outputs": [],
   "source": [
    "def multilayer_perceptron(input_d):\n",
    "    #Task of neurons of first hidden layer\n",
    "    layer_1 = tf.nn.sigmoid(tf.add(tf.matmul(input_d, w1), b1))\n",
    "    #Task of neurons of second hidden layer\n",
    "    layer_2 = tf.nn.sigmoid(tf.add(tf.matmul(layer_1, w2), b2))\n",
    "    #Task of neurons of third hidden layer\n",
    "    layer_3 = tf.nn.sigmoid(tf.add(tf.matmul(layer_2, w3),b3))\n",
    "    #Task of neurons of output layer\n",
    "    out_layer = tf.add(tf.matmul(layer_3, w4),b4)\n",
    "    return out_layer"
   ]
  },
  {
   "cell_type": "code",
   "execution_count": 56,
   "id": "565b50ea",
   "metadata": {},
   "outputs": [],
   "source": [
    "#Create model\n",
    "neural_network = multilayer_perceptron(X)"
   ]
  },
  {
   "cell_type": "code",
   "execution_count": 57,
   "id": "8e0e2d18",
   "metadata": {},
   "outputs": [],
   "source": [
    "#Define loss and optimizer\n",
    "loss_op = tf.reduce_mean(tf.math.squared_difference(neural_network,Y))\n",
    "#loss_op = tf.reduce_mean(tf.nn.softmax_cross_entropy_with_logits(logits=neural_network,labels=Y))\n",
    "optimizer = tf.train.GradientDescentOptimizer(learning_constant).minimize(loss_op)"
   ]
  },
  {
   "cell_type": "code",
   "execution_count": 58,
   "id": "8e281dab",
   "metadata": {},
   "outputs": [],
   "source": [
    "#Initializing the variables\n",
    "init = tf.global_variables_initializer()"
   ]
  },
  {
   "cell_type": "code",
   "execution_count": 59,
   "id": "a3a47da7",
   "metadata": {},
   "outputs": [],
   "source": [
    "def plot_MSE(epoch,MSE):\n",
    "    \n",
    "    plt.figure()\n",
    "    plt.xlabel(\"Epoch\")\n",
    "    plt.ylabel(\"Mean Square Error [MSE]\")\n",
    "    plt.plot(epoch,MSE,label=\"Train Error\")\n",
    "    plt.ylim([0,10])\n",
    "    plt.legend()\n",
    "\n",
    "    plt.show()"
   ]
  },
  {
   "cell_type": "code",
   "execution_count": 81,
   "id": "aaf4d4f8",
   "metadata": {
    "scrolled": false
   },
   "outputs": [
    {
     "name": "stdout",
     "output_type": "stream",
     "text": [
      "Epoch: 0\n",
      "MSE for trainset: 348.43314\n",
      "MSE for validset: 380.06186\n",
      "Epoch: 50\n",
      "MSE for trainset: 15.831882\n",
      "MSE for validset: 19.93788\n",
      "Epoch: 100\n",
      "MSE for trainset: 9.009824\n",
      "MSE for validset: 13.783087\n",
      "Epoch: 150\n",
      "MSE for trainset: 7.2839475\n",
      "MSE for validset: 12.097245\n",
      "Epoch: 200\n",
      "MSE for trainset: 6.6666923\n",
      "MSE for validset: 11.059305\n",
      "Epoch: 250\n",
      "MSE for trainset: 6.3376513\n",
      "MSE for validset: 10.304431\n",
      "Epoch: 300\n",
      "MSE for trainset: 6.1252284\n",
      "MSE for validset: 9.78121\n",
      "Epoch: 350\n",
      "MSE for trainset: 5.963989\n",
      "MSE for validset: 9.38287\n",
      "Epoch: 400\n",
      "MSE for trainset: 5.830491\n",
      "MSE for validset: 9.057659\n",
      "Epoch: 450\n",
      "MSE for trainset: 5.7151384\n",
      "MSE for validset: 8.784475\n",
      "MSE for testset: 7.888961\n"
     ]
    },
    {
     "data": {
      "image/png": "[encoded data removed]",
      "text/plain": [
       "<Figure size 432x288 with 1 Axes>"
      ]
     },
     "metadata": {
      "needs_background": "light"
     },
     "output_type": "display_data"
    }
   ],
   "source": [
    "with tf.Session() as sess:\n",
    "    sess.run(init)\n",
    "    #Training epoch\n",
    "    Epoch=[]\n",
    "    MSEtol=[]\n",
    "    MSEvaltol=[]\n",
    "    for epoch in range(number_epochs):\n",
    "        sess.run(optimizer, feed_dict={X: TrainData, Y:train_labels})\n",
    "        if epoch % 50 == 0:\n",
    "            pred = (neural_network)\n",
    "            MSE=tf.reduce_mean(tf.keras.losses.MSE(pred,Y))\n",
    "            #print(MSE.eval({X: TrainData, Y:train_labels}))\n",
    "            Epoch.append(epoch)\n",
    "            MSEtol.append(MSE.eval({X: TrainData, Y:train_labels}))\n",
    "            MSEvaltol.append(MSE.eval({X: ValidData, Y:valid_labels}))\n",
    "            print(\"Epoch:\", '%d' % (epoch))\n",
    "            print(\"MSE for trainset:\", MSE.eval({X: TrainData, Y:train_labels}))\n",
    "            print(\"MSE for validset:\", MSE.eval({X: ValidData, Y:valid_labels}))\n",
    "                    \n",
    "    MSEtest = MSE.eval({X: TestData, Y:test_labels})\n",
    "    print('MSE for testset:',MSEtest)\n",
    "    plt.xlabel(\"Epoch\")\n",
    "    plt.ylabel(\"Mean Square Error [MSE]\")\n",
    "    plt.plot(Epoch,MSEtol,label=\"Train Error\") \n",
    "    plt.plot(Epoch,MSEvaltol,label=\"Valid Error\")\n",
    "    plt.xlim(0,500)\n",
    "    plt.ylim(5,20)\n",
    "    plt.legend()\n",
    "    #plot_MSE(Epoch,MSE.eval({X: TrainData, Y:train_labels}))\n",
    "    #tf.keras.evaluate(pred,TrainData)\n",
    "    #print(\"Prediction:\", pred.eval({X: TrainData}))\n",
    "    output=neural_network.eval({X: TrainData})"
   ]
  },
  {
   "cell_type": "code",
   "execution_count": 61,
   "id": "ede5e560",
   "metadata": {},
   "outputs": [
    {
     "name": "stdout",
     "output_type": "stream",
     "text": [
      "===============10-fold cross validation\n",
      " MSEtotal:  5.916813373565674\n"
     ]
    }
   ],
   "source": [
    "print(\"===============10-fold cross validation\")\n",
    "k=10\n",
    "datax=TrainData\n",
    "datay=train_labels\n",
    "MSEtotal=0\n",
    "for train_index,test_index in KFold(k,shuffle=True).split(datax):\n",
    "    x_train, x_test=datax.iloc[train_index],datax.iloc[test_index]\n",
    "    y_train, y_test=datay.iloc[train_index],datay.iloc[test_index]\n",
    "    \n",
    "    with tf.Session() as sess:\n",
    "        sess.run(init)\n",
    "        for epoch in range(number_epochs):\n",
    "            sess.run(optimizer, feed_dict={X: x_train, Y: y_train})\n",
    "            if epoch % 50 == 0 and epoch < 499 :\n",
    "                pred = (neural_network)\n",
    "                MSE=tf.reduce_mean(tf.keras.losses.MSE(pred,Y))\n",
    "            elif epoch == 499:\n",
    "                pred = (neural_network)\n",
    "                MSE=tf.reduce_mean(tf.keras.losses.MSE(pred,Y))\n",
    "                #print(\" MSE: \", MSE.eval({X: TrainData, Y:train_labels}))\n",
    "                MSEtotal += float(MSE.eval({X: TrainData, Y:train_labels}))\n",
    "MSEtotal = MSEtotal/k\n",
    "print(\" MSEtotal: \", MSEtotal)"
   ]
  },
  {
   "cell_type": "code",
   "execution_count": 67,
   "id": "8aa3c0db",
   "metadata": {},
   "outputs": [
    {
     "ename": "ValueError",
     "evalue": "x and y must have same first dimension, but have shapes (10,) and (0,)",
     "output_type": "error",
     "traceback": [
      "\u001b[0;31m---------------------------------------------------------------------------\u001b[0m",
      "\u001b[0;31mValueError\u001b[0m                                Traceback (most recent call last)",
      "\u001b[0;32m/var/folders/fq/8sflftys0lndyqpvn4zvw1lw0000gn/T/ipykernel_27791/1826052696.py\u001b[0m in \u001b[0;36m<module>\u001b[0;34m\u001b[0m\n\u001b[1;32m      1\u001b[0m \u001b[0mplt\u001b[0m\u001b[0;34m.\u001b[0m\u001b[0mplot\u001b[0m\u001b[0;34m(\u001b[0m\u001b[0mEpoch\u001b[0m\u001b[0;34m,\u001b[0m\u001b[0mMSEtol\u001b[0m\u001b[0;34m,\u001b[0m\u001b[0mlabel\u001b[0m\u001b[0;34m=\u001b[0m\u001b[0;34m\"Train Error\"\u001b[0m\u001b[0;34m)\u001b[0m\u001b[0;34m\u001b[0m\u001b[0;34m\u001b[0m\u001b[0m\n\u001b[0;32m----> 2\u001b[0;31m \u001b[0mplt\u001b[0m\u001b[0;34m.\u001b[0m\u001b[0mplot\u001b[0m\u001b[0;34m(\u001b[0m\u001b[0mEpoch\u001b[0m\u001b[0;34m,\u001b[0m\u001b[0mMSEval\u001b[0m\u001b[0;34m,\u001b[0m\u001b[0mlabel\u001b[0m\u001b[0;34m=\u001b[0m\u001b[0;34m\"Valid Error\"\u001b[0m\u001b[0;34m)\u001b[0m\u001b[0;34m\u001b[0m\u001b[0;34m\u001b[0m\u001b[0m\n\u001b[0m",
      "\u001b[0;32m/opt/anaconda3/envs/mle_tf/lib/python3.7/site-packages/matplotlib/pyplot.py\u001b[0m in \u001b[0;36mplot\u001b[0;34m(scalex, scaley, data, *args, **kwargs)\u001b[0m\n\u001b[1;32m   2757\u001b[0m     return gca().plot(\n\u001b[1;32m   2758\u001b[0m         \u001b[0;34m*\u001b[0m\u001b[0margs\u001b[0m\u001b[0;34m,\u001b[0m \u001b[0mscalex\u001b[0m\u001b[0;34m=\u001b[0m\u001b[0mscalex\u001b[0m\u001b[0;34m,\u001b[0m \u001b[0mscaley\u001b[0m\u001b[0;34m=\u001b[0m\u001b[0mscaley\u001b[0m\u001b[0;34m,\u001b[0m\u001b[0;34m\u001b[0m\u001b[0;34m\u001b[0m\u001b[0m\n\u001b[0;32m-> 2759\u001b[0;31m         **({\"data\": data} if data is not None else {}), **kwargs)\n\u001b[0m\u001b[1;32m   2760\u001b[0m \u001b[0;34m\u001b[0m\u001b[0m\n\u001b[1;32m   2761\u001b[0m \u001b[0;34m\u001b[0m\u001b[0m\n",
      "\u001b[0;32m/opt/anaconda3/envs/mle_tf/lib/python3.7/site-packages/matplotlib/axes/_axes.py\u001b[0m in \u001b[0;36mplot\u001b[0;34m(self, scalex, scaley, data, *args, **kwargs)\u001b[0m\n\u001b[1;32m   1630\u001b[0m         \"\"\"\n\u001b[1;32m   1631\u001b[0m         \u001b[0mkwargs\u001b[0m \u001b[0;34m=\u001b[0m \u001b[0mcbook\u001b[0m\u001b[0;34m.\u001b[0m\u001b[0mnormalize_kwargs\u001b[0m\u001b[0;34m(\u001b[0m\u001b[0mkwargs\u001b[0m\u001b[0;34m,\u001b[0m \u001b[0mmlines\u001b[0m\u001b[0;34m.\u001b[0m\u001b[0mLine2D\u001b[0m\u001b[0;34m)\u001b[0m\u001b[0;34m\u001b[0m\u001b[0;34m\u001b[0m\u001b[0m\n\u001b[0;32m-> 1632\u001b[0;31m         \u001b[0mlines\u001b[0m \u001b[0;34m=\u001b[0m \u001b[0;34m[\u001b[0m\u001b[0;34m*\u001b[0m\u001b[0mself\u001b[0m\u001b[0;34m.\u001b[0m\u001b[0m_get_lines\u001b[0m\u001b[0;34m(\u001b[0m\u001b[0;34m*\u001b[0m\u001b[0margs\u001b[0m\u001b[0;34m,\u001b[0m \u001b[0mdata\u001b[0m\u001b[0;34m=\u001b[0m\u001b[0mdata\u001b[0m\u001b[0;34m,\u001b[0m \u001b[0;34m**\u001b[0m\u001b[0mkwargs\u001b[0m\u001b[0;34m)\u001b[0m\u001b[0;34m]\u001b[0m\u001b[0;34m\u001b[0m\u001b[0;34m\u001b[0m\u001b[0m\n\u001b[0m\u001b[1;32m   1633\u001b[0m         \u001b[0;32mfor\u001b[0m \u001b[0mline\u001b[0m \u001b[0;32min\u001b[0m \u001b[0mlines\u001b[0m\u001b[0;34m:\u001b[0m\u001b[0;34m\u001b[0m\u001b[0;34m\u001b[0m\u001b[0m\n\u001b[1;32m   1634\u001b[0m             \u001b[0mself\u001b[0m\u001b[0;34m.\u001b[0m\u001b[0madd_line\u001b[0m\u001b[0;34m(\u001b[0m\u001b[0mline\u001b[0m\u001b[0;34m)\u001b[0m\u001b[0;34m\u001b[0m\u001b[0;34m\u001b[0m\u001b[0m\n",
      "\u001b[0;32m/opt/anaconda3/envs/mle_tf/lib/python3.7/site-packages/matplotlib/axes/_base.py\u001b[0m in \u001b[0;36m__call__\u001b[0;34m(self, data, *args, **kwargs)\u001b[0m\n\u001b[1;32m    310\u001b[0m                 \u001b[0mthis\u001b[0m \u001b[0;34m+=\u001b[0m \u001b[0margs\u001b[0m\u001b[0;34m[\u001b[0m\u001b[0;36m0\u001b[0m\u001b[0;34m]\u001b[0m\u001b[0;34m,\u001b[0m\u001b[0;34m\u001b[0m\u001b[0;34m\u001b[0m\u001b[0m\n\u001b[1;32m    311\u001b[0m                 \u001b[0margs\u001b[0m \u001b[0;34m=\u001b[0m \u001b[0margs\u001b[0m\u001b[0;34m[\u001b[0m\u001b[0;36m1\u001b[0m\u001b[0;34m:\u001b[0m\u001b[0;34m]\u001b[0m\u001b[0;34m\u001b[0m\u001b[0;34m\u001b[0m\u001b[0m\n\u001b[0;32m--> 312\u001b[0;31m             \u001b[0;32myield\u001b[0m \u001b[0;32mfrom\u001b[0m \u001b[0mself\u001b[0m\u001b[0;34m.\u001b[0m\u001b[0m_plot_args\u001b[0m\u001b[0;34m(\u001b[0m\u001b[0mthis\u001b[0m\u001b[0;34m,\u001b[0m \u001b[0mkwargs\u001b[0m\u001b[0;34m)\u001b[0m\u001b[0;34m\u001b[0m\u001b[0;34m\u001b[0m\u001b[0m\n\u001b[0m\u001b[1;32m    313\u001b[0m \u001b[0;34m\u001b[0m\u001b[0m\n\u001b[1;32m    314\u001b[0m     \u001b[0;32mdef\u001b[0m \u001b[0mget_next_color\u001b[0m\u001b[0;34m(\u001b[0m\u001b[0mself\u001b[0m\u001b[0;34m)\u001b[0m\u001b[0;34m:\u001b[0m\u001b[0;34m\u001b[0m\u001b[0;34m\u001b[0m\u001b[0m\n",
      "\u001b[0;32m/opt/anaconda3/envs/mle_tf/lib/python3.7/site-packages/matplotlib/axes/_base.py\u001b[0m in \u001b[0;36m_plot_args\u001b[0;34m(self, tup, kwargs, return_kwargs)\u001b[0m\n\u001b[1;32m    496\u001b[0m \u001b[0;34m\u001b[0m\u001b[0m\n\u001b[1;32m    497\u001b[0m         \u001b[0;32mif\u001b[0m \u001b[0mx\u001b[0m\u001b[0;34m.\u001b[0m\u001b[0mshape\u001b[0m\u001b[0;34m[\u001b[0m\u001b[0;36m0\u001b[0m\u001b[0;34m]\u001b[0m \u001b[0;34m!=\u001b[0m \u001b[0my\u001b[0m\u001b[0;34m.\u001b[0m\u001b[0mshape\u001b[0m\u001b[0;34m[\u001b[0m\u001b[0;36m0\u001b[0m\u001b[0;34m]\u001b[0m\u001b[0;34m:\u001b[0m\u001b[0;34m\u001b[0m\u001b[0;34m\u001b[0m\u001b[0m\n\u001b[0;32m--> 498\u001b[0;31m             raise ValueError(f\"x and y must have same first dimension, but \"\n\u001b[0m\u001b[1;32m    499\u001b[0m                              f\"have shapes {x.shape} and {y.shape}\")\n\u001b[1;32m    500\u001b[0m         \u001b[0;32mif\u001b[0m \u001b[0mx\u001b[0m\u001b[0;34m.\u001b[0m\u001b[0mndim\u001b[0m \u001b[0;34m>\u001b[0m \u001b[0;36m2\u001b[0m \u001b[0;32mor\u001b[0m \u001b[0my\u001b[0m\u001b[0;34m.\u001b[0m\u001b[0mndim\u001b[0m \u001b[0;34m>\u001b[0m \u001b[0;36m2\u001b[0m\u001b[0;34m:\u001b[0m\u001b[0;34m\u001b[0m\u001b[0;34m\u001b[0m\u001b[0m\n",
      "\u001b[0;31mValueError\u001b[0m: x and y must have same first dimension, but have shapes (10,) and (0,)"
     ]
    },
    {
     "data": {
      "image/png": "[encoded data removed]",
      "text/plain": [
       "<Figure size 432x288 with 1 Axes>"
      ]
     },
     "metadata": {
      "needs_background": "light"
     },
     "output_type": "display_data"
    }
   ],
   "source": [
    "plt.plot(Epoch,MSEtol,label=\"Train Error\")\n",
    "plt.plot(Epoch,MSEval,label=\"Valid Error\")"
   ]
  },
  {
   "cell_type": "code",
   "execution_count": 70,
   "id": "b459c7e8",
   "metadata": {},
   "outputs": [
    {
     "data": {
      "text/plain": [
       "[337.89014,\n",
       " 17.470741,\n",
       " 9.630966,\n",
       " 7.793264,\n",
       " 7.0137815,\n",
       " 6.579303,\n",
       " 6.303251,\n",
       " 6.1035357,\n",
       " 5.942928,\n",
       " 5.8054385]"
      ]
     },
     "execution_count": 70,
     "metadata": {},
     "output_type": "execute_result"
    }
   ],
   "source": [
    "MSEtol"
   ]
  },
  {
   "cell_type": "code",
   "execution_count": 71,
   "id": "767ae2e9",
   "metadata": {},
   "outputs": [
    {
     "data": {
      "text/plain": [
       "[]"
      ]
     },
     "execution_count": 71,
     "metadata": {},
     "output_type": "execute_result"
    }
   ],
   "source": [
    "MSEval"
   ]
  },
  {
   "cell_type": "code",
   "execution_count": null,
   "id": "661b2141",
   "metadata": {},
   "outputs": [],
   "source": []
  }
 ],
 "metadata": {
  "kernelspec": {
   "display_name": "Python 3 (ipykernel)",
   "language": "python",
   "name": "python3"
  },
  "language_info": {
   "codemirror_mode": {
    "name": "ipython",
    "version": 3
   },
   "file_extension": ".py",
   "mimetype": "text/x-python",
   "name": "python",
   "nbconvert_exporter": "python",
   "pygments_lexer": "ipython3",
   "version": "3.7.11"
  }
 },
 "nbformat": 4,
 "nbformat_minor": 5
}
